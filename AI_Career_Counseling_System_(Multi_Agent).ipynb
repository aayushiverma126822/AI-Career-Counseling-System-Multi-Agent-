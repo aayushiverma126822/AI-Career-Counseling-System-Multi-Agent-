{
  "nbformat": 4,
  "nbformat_minor": 0,
  "metadata": {
    "colab": {
      "provenance": []
    },
    "kernelspec": {
      "name": "python3",
      "display_name": "Python 3"
    },
    "language_info": {
      "name": "python"
    }
  },
  "cells": [
    {
      "cell_type": "code",
      "source": [
        "# Create requirements.txt in runtime\n",
        "with open(\"requirements.txt\", \"w\") as f:\n",
        "    f.write(\"google-generativeai\\n\")\n"
      ],
      "metadata": {
        "id": "2d6Kl0Qwbya7"
      },
      "execution_count": 9,
      "outputs": []
    },
    {
      "cell_type": "code",
      "source": [
        "!pip install -q -U google-generativeai\n"
      ],
      "metadata": {
        "id": "bfxegIxR0HpQ"
      },
      "execution_count": 1,
      "outputs": []
    },
    {
      "cell_type": "code",
      "source": [
        "import os\n",
        "import google.generativeai as genai\n",
        "from google.colab import userdata\n",
        "\n",
        "# Input Gemini API key securely\n",
        "api_key = userdata.get('GEMINI_API_KEY')\n",
        "genai.configure(api_key=api_key)\n",
        "\n",
        "# Load Gemini Pro model\n",
        "model = genai.GenerativeModel(\"gemini-1.5-flash-latest\")\n",
        "\n",
        "# Optional: list available models\n",
        "for m in genai.list_models():\n",
        "    if 'generateContent' in m.supported_generation_methods:\n",
        "        print(m.name)"
      ],
      "metadata": {
        "colab": {
          "base_uri": "https://localhost:8080/",
          "height": 749
        },
        "id": "IbzxEgBi0H0C",
        "outputId": "100da361-f6cc-4ac7-cd2c-fceadbb4cedf"
      },
      "execution_count": 2,
      "outputs": [
        {
          "output_type": "stream",
          "name": "stdout",
          "text": [
            "models/gemini-1.5-pro-latest\n",
            "models/gemini-1.5-pro-002\n",
            "models/gemini-1.5-pro\n",
            "models/gemini-1.5-flash-latest\n",
            "models/gemini-1.5-flash\n",
            "models/gemini-1.5-flash-002\n",
            "models/gemini-1.5-flash-8b\n",
            "models/gemini-1.5-flash-8b-001\n",
            "models/gemini-1.5-flash-8b-latest\n",
            "models/gemini-2.5-pro-preview-03-25\n",
            "models/gemini-2.5-flash-preview-05-20\n",
            "models/gemini-2.5-flash\n",
            "models/gemini-2.5-flash-lite-preview-06-17\n",
            "models/gemini-2.5-pro-preview-05-06\n",
            "models/gemini-2.5-pro-preview-06-05\n",
            "models/gemini-2.5-pro\n",
            "models/gemini-2.0-flash-exp\n",
            "models/gemini-2.0-flash\n",
            "models/gemini-2.0-flash-001\n",
            "models/gemini-2.0-flash-exp-image-generation\n",
            "models/gemini-2.0-flash-lite-001\n",
            "models/gemini-2.0-flash-lite\n",
            "models/gemini-2.0-flash-preview-image-generation\n",
            "models/gemini-2.0-flash-lite-preview-02-05\n",
            "models/gemini-2.0-flash-lite-preview\n",
            "models/gemini-2.0-pro-exp\n",
            "models/gemini-2.0-pro-exp-02-05\n",
            "models/gemini-exp-1206\n",
            "models/gemini-2.0-flash-thinking-exp-01-21\n",
            "models/gemini-2.0-flash-thinking-exp\n",
            "models/gemini-2.0-flash-thinking-exp-1219\n",
            "models/gemini-2.5-flash-preview-tts\n",
            "models/gemini-2.5-pro-preview-tts\n",
            "models/learnlm-2.0-flash-experimental\n",
            "models/gemma-3-1b-it\n",
            "models/gemma-3-4b-it\n",
            "models/gemma-3-12b-it\n",
            "models/gemma-3-27b-it\n",
            "models/gemma-3n-e4b-it\n",
            "models/gemma-3n-e2b-it\n",
            "models/gemini-2.5-flash-lite\n"
          ]
        }
      ]
    },
    {
      "cell_type": "code",
      "source": [
        "def resume_analyzer(resume_text):\n",
        "    prompt = f\"\"\"\n",
        "    Act as a professional resume expert. Review the following resume:\n",
        "    {resume_text}\n",
        "\n",
        "    Suggest:\n",
        "    - Improvements in format or clarity\n",
        "    - Missing but valuable skills\n",
        "    - Career domains best suited for this candidate\n",
        "    \"\"\"\n",
        "    response = model.generate_content(prompt)\n",
        "    return response.text\n"
      ],
      "metadata": {
        "id": "1mYq2Qs60H1A"
      },
      "execution_count": 3,
      "outputs": []
    },
    {
      "cell_type": "code",
      "source": [
        "def skill_matcher(resume_text):\n",
        "    prompt = f\"\"\"\n",
        "    You're a skill recommender AI. Based on the resume:\n",
        "    {resume_text}\n",
        "\n",
        "    Identify:\n",
        "    - Key current skills\n",
        "    - Trending industry skills the candidate should learn\n",
        "    - 2 resources or platforms to learn those skills\n",
        "    \"\"\"\n",
        "    response = model.generate_content(prompt)\n",
        "    return response.text\n"
      ],
      "metadata": {
        "id": "2VKLBtQP0H1v"
      },
      "execution_count": 4,
      "outputs": []
    },
    {
      "cell_type": "code",
      "source": [
        "def job_finder(resume_text):\n",
        "    prompt = f\"\"\"\n",
        "    You are a job recommendation engine. Based on the resume:\n",
        "    {resume_text}\n",
        "\n",
        "    Suggest:\n",
        "    - 3 ideal job titles\n",
        "    - Matching domains (e.g., fintech, healthtech, edtech)\n",
        "    - Remote/internship/full-time preference based on experience\n",
        "    \"\"\"\n",
        "    response = model.generate_content(prompt)\n",
        "    return response.text\n"
      ],
      "metadata": {
        "id": "q2gKVlVf0H3-"
      },
      "execution_count": 5,
      "outputs": []
    },
    {
      "cell_type": "code",
      "source": [
        "def ai_career_counselor(resume_text):\n",
        "    print(\"🔍 Resume Analysis:\\n\")\n",
        "    print(resume_analyzer(resume_text))\n",
        "\n",
        "    print(\"\\n🧠 Skill Suggestions:\\n\")\n",
        "    print(skill_matcher(resume_text))\n",
        "\n",
        "    print(\"\\n💼 Career Recommendations:\\n\")\n",
        "    print(job_finder(resume_text))\n"
      ],
      "metadata": {
        "id": "7G32RWai0H6l"
      },
      "execution_count": 6,
      "outputs": []
    },
    {
      "cell_type": "code",
      "source": [
        "resume_text = \"\"\"\n",
        "Aayushi Verma\n",
        "B.Tech CSE | Python Developer | Data Analyst | AI/ML Enthusiast\n",
        "\n",
        "Skills: Python, SQL, Power BI, LangChain, OpenAI API, Streamlit, Deep Learning, NLP\n",
        "Projects: Fake News Detection, ResNet50 Image Classifier, Customer Churn Prediction\n",
        "Experience: Intern @ IBM, Cvent, Bharat Intern, Internship Studio\n",
        "Certifications: AI/ML, Data Analytics, Python, Prompt Engineering\n",
        "Soft Skills: Communication, Time Management, Teamwork, Documentation\n",
        "\"\"\"\n",
        "\n",
        "ai_career_counselor(resume_text)\n"
      ],
      "metadata": {
        "colab": {
          "base_uri": "https://localhost:8080/",
          "height": 1000
        },
        "id": "naIBBr7e0H-M",
        "outputId": "8892293c-8fe7-4eba-c3a3-e6b154694e86"
      },
      "execution_count": 7,
      "outputs": [
        {
          "output_type": "stream",
          "name": "stdout",
          "text": [
            "🔍 Resume Analysis:\n",
            "\n",
            "This resume is a good starting point but lacks the detail and structure needed to effectively showcase Aayushi's skills and experience to a potential employer.  Here's a breakdown of improvements:\n",
            "\n",
            "**Format & Clarity Improvements:**\n",
            "\n",
            "* **Headline:** Instead of a bulleted list, create a concise and impactful headline.  Options include:  \"Data Scientist | Python Developer | Machine Learning Engineer\" (depending on the target role) or \"Results-Oriented Data Analyst & Python Developer with Expertise in AI/ML.\"  This should clearly state Aayushi's primary career objective.\n",
            "\n",
            "* **Summary/Objective (Add this section):** A brief (3-4 sentence) summary highlighting key achievements and career aspirations is crucial.  It should grab the reader's attention and tailor itself to the specific job being applied for.  Example: \"Highly motivated and results-oriented Data Analyst and Python Developer with experience in building AI/ML models for real-world applications. Proven ability to leverage Python, SQL, and Power BI to extract actionable insights from data.  Seeking a challenging role where I can contribute to innovative projects and further develop my skills in [Specific Area of Interest].\"\n",
            "\n",
            "* **Skills:** Categorize skills into relevant groups (e.g., Programming Languages, Data Analysis Tools, Machine Learning, Cloud Platforms – if applicable). This improves readability and allows recruiters to quickly identify relevant expertise. Consider adding specific libraries within each category (e.g., under Python: NumPy, Pandas, Scikit-learn, TensorFlow/PyTorch).\n",
            "\n",
            "* **Projects:** This section needs significant expansion.  Instead of just listing project names, describe each project concisely (1-2 sentences each) highlighting:\n",
            "    * **Problem solved:** What challenge did the project address?\n",
            "    * **Methods used:**  Which specific technologies and techniques were employed?\n",
            "    * **Results achieved:** What were the key outcomes or accomplishments?  Quantify results whenever possible (e.g., \"Improved model accuracy by 15%,\" \"Reduced customer churn by 10%\").\n",
            "\n",
            "* **Experience:**  The internships are listed very briefly.  Each internship entry should include:\n",
            "    * **Company:**  IBM, Cvent, etc.\n",
            "    * **Dates of Employment:** (Month Year – Month Year)\n",
            "    * **Job Title:** (e.g., Data Science Intern, Software Engineering Intern)\n",
            "    * **Responsibilities & Achievements:** Use action verbs to describe contributions (e.g., \"Developed and deployed a Python script to automate…,\" \"Analyzed customer data using SQL to identify…,\" \"Presented findings to stakeholders resulting in…\").  Quantify accomplishments whenever possible.\n",
            "\n",
            "* **Certifications:** Specify the issuing institution for each certification.\n",
            "\n",
            "* **Soft Skills:** While important, these are best integrated into the experience and summary sections to demonstrate their application, rather than listed separately.\n",
            "\n",
            "\n",
            "**Missing but Valuable Skills:**\n",
            "\n",
            "* **Version Control (Git):** Essential for collaborative software development.\n",
            "* **Cloud Computing (AWS, Azure, GCP):**  Highly desirable for data science and AI/ML roles.\n",
            "* **Data Visualization (Matplotlib, Seaborn):**  Beyond Power BI, showcasing proficiency in Python-based visualization libraries is beneficial.\n",
            "* **Big Data Technologies (Spark, Hadoop – depending on the target role):**  If aiming for large-scale data analysis roles.\n",
            "* **Model Deployment (e.g., Flask, Docker):**  Demonstrates practical experience in deploying machine learning models.\n",
            "\n",
            "\n",
            "**Career Domains Best Suited:**\n",
            "\n",
            "Based on the provided information, Aayushi is well-suited for roles in:\n",
            "\n",
            "* **Data Scientist:**  Strong Python, ML, and data analysis skills.\n",
            "* **Machine Learning Engineer:**  Experience building and deploying models.\n",
            "* **Data Analyst:**  Proficiency in SQL, Power BI, and data manipulation.\n",
            "* **Python Developer (with a focus on data science):**  If she wants to emphasize the software engineering aspects of her skillset.\n",
            "\n",
            "\n",
            "**In summary:**  Aayushi needs to transform her resume from a simple list of skills and projects into a compelling narrative that showcases her accomplishments and quantifiable results.  Adding detail, structuring the content logically, and focusing on accomplishments will significantly improve the effectiveness of her resume.\n",
            "\n",
            "\n",
            "🧠 Skill Suggestions:\n",
            "\n"
          ]
        },
        {
          "output_type": "stream",
          "name": "stderr",
          "text": [
            "ERROR:tornado.access:503 POST /v1beta/models/gemini-1.5-flash-latest:generateContent?%24alt=json%3Benum-encoding%3Dint (127.0.0.1) 686.75ms\n",
            "ERROR:tornado.access:503 POST /v1beta/models/gemini-1.5-flash-latest:generateContent?%24alt=json%3Benum-encoding%3Dint (127.0.0.1) 809.80ms\n"
          ]
        },
        {
          "output_type": "stream",
          "name": "stdout",
          "text": [
            "## Skill Recommendation for Aayushi Verma\n",
            "\n",
            "**Key Current Skills:**\n",
            "\n",
            "Aayushi possesses a strong foundation in Python programming, complemented by skills in data analysis (SQL, Power BI),  AI/ML (Deep Learning, NLP, LangChain, OpenAI API), and web application development (Streamlit).  Her projects demonstrate practical application of these skills in relevant domains (Fake News Detection, Image Classification, Customer Churn Prediction).\n",
            "\n",
            "**Trending Industry Skills to Learn:**\n",
            "\n",
            "To further enhance her profile and marketability, Aayushi should focus on these trending skills:\n",
            "\n",
            "1. **Large Language Model (LLM) Engineering:**  Building upon her existing LangChain and OpenAI API experience, mastering LLM engineering is crucial. This includes prompt engineering optimization, fine-tuning LLMs, and developing applications leveraging the power of LLMs.  This is a rapidly growing field with high demand.\n",
            "\n",
            "2. **MLOps (Machine Learning Operations):** As AI/ML projects become more complex,  MLOps is essential for deploying, monitoring, and managing ML models in production environments.  Skills in CI/CD for ML, model monitoring, and deployment platforms (e.g., Kubernetes, AWS SageMaker) would be highly beneficial.\n",
            "\n",
            "3. **Cloud Computing (AWS, Azure, or GCP):**  Most AI/ML applications are deployed on cloud platforms.  Familiarity with at least one major cloud provider, including their AI/ML services, is vital for career advancement.\n",
            "\n",
            "\n",
            "**Resources and Platforms to Learn:**\n",
            "\n",
            "1. **Coursera/edX:** Both platforms offer numerous specialized courses on LLM engineering, MLOps, and cloud computing.  Look for courses from reputable universities or organizations with industry connections.  They offer structured learning paths and certifications.\n",
            "\n",
            "\n",
            "2. **Fast.ai:**  This platform offers practical and accessible courses on deep learning and related areas.  While it might not have dedicated MLOps courses, its practical approach helps build foundational skills applicable to MLOps.  They also have strong community support.  Additionally, look for specific courses or tutorials on AWS, Azure, or GCP's cloud platforms.\n",
            "\n",
            "\n",
            "By acquiring these skills, Aayushi can significantly enhance her competitiveness in the rapidly evolving AI/ML job market.\n",
            "\n",
            "\n",
            "💼 Career Recommendations:\n",
            "\n",
            "Based on Aayushi Verma's resume, here are some job recommendations:\n",
            "\n",
            "**Ideal Job Titles:**\n",
            "\n",
            "1. **Junior Data Scientist/Machine Learning Engineer:** This title directly reflects her skills in Python, deep learning, NLP, and her project experience in areas like fake news detection and image classification.  It acknowledges her experience level while highlighting her technical abilities.\n",
            "2. **Python Data Analyst with ML Skills:** This title emphasizes her strong Python and data analysis skills, while also recognizing her burgeoning machine learning expertise. This is a good option if she wants to focus on the analytical side while still utilizing her ML knowledge.\n",
            "3. **AI/ML Application Developer (Junior/Entry-Level):** This title is suitable if she wants to focus on building applications using her AI/ML knowledge and tools like LangChain and the OpenAI API.  The inclusion of \"Junior/Entry-Level\" acknowledges her internship experience.\n",
            "\n",
            "\n",
            "**Matching Domains:**\n",
            "\n",
            "* **Fintech:** Her analytical skills and experience with customer churn prediction would be highly relevant in the financial technology sector.  Fraud detection and risk assessment are also potential applications of her skills.\n",
            "* **Edtech:**  Her project portfolio and AI/ML skills are transferable to edtech, where she could work on personalized learning platforms, AI-powered tutoring systems, or content generation tools.\n",
            "* **Healthtech:** While not explicitly mentioned in her resume, her skills are transferable to healthtech for tasks like medical image analysis, disease prediction, or patient data analysis.  \n",
            "\n",
            "\n",
            "**Remote/Internship/Full-Time Preference:**\n",
            "\n",
            "Given her experience primarily consisting of internships, a **full-time entry-level position** is a suitable next step.  A **remote** option would be a reasonable preference, given the prevalence of remote work in the tech industry, and her demonstrated ability to work independently on projects.  However, an **internship** at a larger company to gain more experience is also a strong possibility and might be beneficial before committing to a full-time role.  Therefore, the recommendation is to consider both full-time (remote or on-site) and potentially another higher-level internship depending on her career goals and the job market.\n",
            "\n"
          ]
        }
      ]
    },
    {
      "cell_type": "code",
      "source": [
        "resume_text = \"\"\"\n",
        "Ojas Verma\n",
        "Phd English\n",
        "Skills: Communication, Multilingual, English\n",
        "Experience: Intern @ Cvent, Bharat Intern, Internship Studio\n",
        "Soft Skills: Communication, Time Management, Teamwork, Documentation\n",
        "\"\"\"\n",
        "\n",
        "ai_career_counselor(resume_text)"
      ],
      "metadata": {
        "colab": {
          "base_uri": "https://localhost:8080/",
          "height": 1000
        },
        "id": "znXMCYGe0IBm",
        "outputId": "8fcb6acb-dcc8-4559-da03-0bd7238b89f0"
      },
      "execution_count": 8,
      "outputs": [
        {
          "output_type": "stream",
          "name": "stdout",
          "text": [
            "🔍 Resume Analysis:\n",
            "\n"
          ]
        },
        {
          "output_type": "stream",
          "name": "stderr",
          "text": [
            "ERROR:tornado.access:503 POST /v1beta/models/gemini-1.5-flash-latest:generateContent?%24alt=json%3Benum-encoding%3Dint (127.0.0.1) 788.94ms\n",
            "ERROR:tornado.access:503 POST /v1beta/models/gemini-1.5-flash-latest:generateContent?%24alt=json%3Benum-encoding%3Dint (127.0.0.1) 840.64ms\n",
            "ERROR:tornado.access:503 POST /v1beta/models/gemini-1.5-flash-latest:generateContent?%24alt=json%3Benum-encoding%3Dint (127.0.0.1) 937.33ms\n"
          ]
        },
        {
          "output_type": "stream",
          "name": "stdout",
          "text": [
            "This resume is extremely rudimentary and needs significant improvement to be competitive.  It lacks detail, quantifiable achievements, and showcases a limited skillset. Here's a breakdown of improvements:\n",
            "\n",
            "\n",
            "**Format & Clarity Improvements:**\n",
            "\n",
            "* **Contact Information:** Add a phone number, email address, and optionally a LinkedIn profile URL.  Consider adding a location (city and state) if comfortable.\n",
            "* **Headline/Summary:**  Instead of just \"PhD English,\" create a compelling headline or summary statement. This should highlight Ojas's career goals and key strengths.  Examples:\n",
            "    * \"Highly analytical and communicative PhD in English seeking a role in [Target Industry/Role, e.g., Academic Publishing, Content Strategy, Technical Writing]\"\n",
            "    * \"Results-oriented PhD candidate with expertise in [Area of English specialization, e.g., Literary Criticism, Rhetoric] and proven communication skills seeking a challenging position in [Target Industry/Role]\"\n",
            "* **Skills Section:** This needs substantial expansion and categorization.  Instead of just listing \"Communication, Multilingual, English,\" specify the *types* of communication skills (written, verbal, presentation, interpersonal), languages spoken (with proficiency levels), and any specific English skills relevant to a target career (e.g., editing, proofreading, research, critical analysis, grant writing).  Consider adding skills like:\n",
            "    * **Technical Skills:**  Depending on their PhD focus, this could include software proficiency (e.g., Microsoft Office Suite, specific research software, data analysis tools), bibliographic management software (Zotero, Mendeley), etc.\n",
            "    * **Research Skills:** Qualitative research, quantitative research, literature review, data analysis, primary source analysis, archival research.\n",
            "* **Experience Section:**  The current section is utterly insufficient.  Each internship needs a complete description, including:\n",
            "    * **Company Name and Location:**  Add the city and state for each internship.\n",
            "    * **Dates of Employment:** Use month/year format (e.g., June 2021 - August 2021).\n",
            "    * **Responsibilities and Achievements:** This is crucial. Instead of just listing the internship name, describe specific tasks, projects, and accomplishments.  Use action verbs and quantify results whenever possible. For example:\n",
            "        * Instead of \"Intern @ Cvent,\" write:  \"Intern, Cvent, [City, State]  | June 2021 - August 2021.  Assisted in the development of marketing materials, resulting in a 15% increase in engagement (quantify if possible).  Managed social media accounts, increasing follower count by X%.\"\n",
            "* **Soft Skills:**  These are already listed under a separate heading, but they should be integrated into the experience section to demonstrate how these skills were utilized.  Don't just list them; show how you used them effectively.\n",
            "* **Education:**  Expand this section to include the university name, location, graduation date (or expected graduation date), thesis title (or area of specialization), and any relevant academic honors or awards.\n",
            "\n",
            "\n",
            "**Missing but Valuable Skills:**\n",
            "\n",
            "* **Specific Software Proficiencies:** As mentioned above.\n",
            "* **Research Methods:**  Depending on their PhD focus, this could be a significant asset.\n",
            "* **Data Analysis:** If relevant to their research or target career.\n",
            "* **Project Management:**  If applicable to their internships or research.\n",
            "* **Teaching/Mentoring:** If they have any experience.\n",
            "\n",
            "\n",
            "**Career Domains Best Suited:**\n",
            "\n",
            "Ojas's background suggests several career paths, depending on their specific research interests and skills:\n",
            "\n",
            "* **Academia:** Postdoctoral research positions, teaching positions (lecturer, assistant professor).\n",
            "* **Publishing:** Editorial assistant, copyeditor, proofreader, academic publishing.\n",
            "* **Technical Writing:**  Creating documentation for software, technology, or complex processes.\n",
            "* **Content Creation/Marketing:** Writing website content, marketing materials, social media posts.\n",
            "* **Grant Writing:**  Writing proposals to secure funding for research projects.\n",
            "\n",
            "\n",
            "**In summary:**  This resume needs a complete overhaul.  Ojas needs to focus on quantifying their achievements, tailoring the resume to specific job descriptions, and expanding on their skillset to highlight their transferable abilities.  The current version is too generic and lacks the detail necessary to make a strong impression on potential employers.\n",
            "\n",
            "\n",
            "🧠 Skill Suggestions:\n",
            "\n",
            "## Skill Recommendations for Ojas Verma\n",
            "\n",
            "**Key Current Skills:**\n",
            "\n",
            "* **Communication:** This is highlighted in both the skills and soft skills sections, indicating a strong emphasis.  However, the resume lacks specifics.  Is this written, verbal, presentation, technical writing, etc.?  Specificity is key.\n",
            "* **Multilingualism:** Knowing multiple languages is a valuable asset, but the resume doesn't specify which languages. This needs to be explicitly stated.\n",
            "* **English (language proficiency):**  Native or near-native fluency is implied, but should be explicitly stated as \"Native English speaker\" or \"Fluent in English\" for clarity.\n",
            "* **Time Management & Teamwork:** Important soft skills, essential for most jobs.\n",
            "* **Documentation:**  This skill is valuable, but again, needs more detail. What kind of documentation (technical, administrative, etc.)?\n",
            "\n",
            "**Trending Industry Skills to Learn:**\n",
            "\n",
            "Given Ojas's PhD in English and internship experience, several avenues are open.  To make effective recommendations, I need to assume a target career path. I'll offer suggestions for two common paths:\n",
            "\n",
            "**Path 1: Academia/Research:**\n",
            "\n",
            "* **Data Analysis:**  Analyzing textual data is increasingly important in literary studies and the humanities.  This could involve quantitative methods or qualitative coding.\n",
            "* **Digital Humanities Tools:** Familiarity with tools for text analysis, digital archiving, and collaborative scholarship (e.g., Zotero, Voyant Tools, various programming languages like Python).\n",
            "* **Grant Writing:**  Securing funding for research is crucial for academic success.\n",
            "\n",
            "\n",
            "**Path 2: Content Creation/Marketing/Communications:**\n",
            "\n",
            "* **SEO (Search Engine Optimization):** Crucial for getting content seen online.\n",
            "* **Content Marketing:**  Creating and distributing valuable, relevant, and consistent content to attract and retain a clearly defined audience.\n",
            "* **Social Media Marketing:** Managing social media presence for businesses or individuals.\n",
            "* **Digital Content Creation (e.g., video editing, graphic design):**  Enhances communication impact.\n",
            "\n",
            "\n",
            "**Resources and Platforms to Learn:**\n",
            "\n",
            "I'll provide resources for both paths, focusing on the top 2 skills from each:\n",
            "\n",
            "**Path 1 (Academia/Research):**\n",
            "\n",
            "1. **Coursera/edX:**  These platforms offer numerous courses on data analysis (R, Python, statistical methods), digital humanities, and grant writing. Look for courses from universities with strong humanities programs.\n",
            "2. **Digital Humanities workshops/conferences:** Attending conferences and workshops provides practical experience and networking opportunities. Check the websites of relevant professional organizations.\n",
            "\n",
            "\n",
            "**Path 2 (Content Creation/Marketing/Communications):**\n",
            "\n",
            "1. **HubSpot Academy:** Offers free and paid courses on inbound marketing, SEO, content marketing, and social media marketing.\n",
            "2. **Skillshare/Udemy:**  Provides a vast array of video courses on various aspects of digital content creation (video editing, graphic design, social media management).\n",
            "\n",
            "\n",
            "\n",
            "**In conclusion:** Ojas needs to significantly enhance his resume to showcase more specific skills and quantifiable achievements.  The suggested skills above will greatly improve his job prospects, but choosing the right path is crucial.  He needs to identify his career goals to tailor his skill development appropriately.\n",
            "\n",
            "\n",
            "💼 Career Recommendations:\n",
            "\n",
            "Based on Ojas Verma's resume, here are some job recommendations:\n",
            "\n",
            "**Ideal Job Titles:**\n",
            "\n",
            "1. **Technical Writer/Documentation Specialist:** This leverages Ojas's strong communication skills, multilingual abilities (assuming proficiency beyond English is significant enough to mention), and experience with documentation.\n",
            "2. **Content Writer/Editor (Academic/Professional):** This utilizes Ojas's PhD in English and communication expertise.  The experience at Cvent suggests some exposure to professional environments.\n",
            "3. **Communications Intern (Marketing/PR):**  Given the internship experience, this is a logical next step, leveraging communication and teamwork skills.\n",
            "\n",
            "\n",
            "**Matching Domains:**\n",
            "\n",
            "* **EdTech:**  A PhD in English is highly relevant to the educational technology sector.  Ojas could work on curriculum development, educational content creation, or marketing and communications roles within an edtech company.\n",
            "* **General Communication/Marketing:** This is a broad domain but suitable given Ojas's skill set.  Many industries require strong communicators.\n",
            "* **Publishing (Academic or Professional):**  Ojas's PhD and skills make this a good fit. This could involve editing, proofreading, or content creation.\n",
            "\n",
            "\n",
            "**Remote/Internship/Full-Time Preference:**\n",
            "\n",
            "Based on the resume showing primarily internship experience, **internship** opportunities should be prioritized.  However, entry-level full-time positions in the domains mentioned above would also be suitable.  The preference for remote vs. in-office would depend on the specific job description and Ojas's preferences, but entry-level positions in the mentioned domains often offer remote or hybrid options.\n",
            "\n"
          ]
        }
      ]
    }
  ]
}